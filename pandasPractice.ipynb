{
 "cells": [
  {
   "cell_type": "code",
   "execution_count": null,
   "id": "e063ae35",
   "metadata": {},
   "outputs": [],
   "source": [
    "import pandas as pd\n",
    "\n",
    "# 1. Load CSV and set 'Date' as index\n",
    "df = pd.read_csv(\"sales-feb-2015.csv\", parse_dates=['Date'])\n",
    "df.set_index('Date', inplace=True)\n",
    "\n",
    "\n"
   ]
  },
  {
   "cell_type": "code",
   "execution_count": null,
   "id": "b6f9a0d4",
   "metadata": {},
   "outputs": [],
   "source": [
    "# 2. Access 'Units' for Feb 5th at 02:00:00\n",
    "units_bracket = df['Units']['2015-02-05 02:00:00']\n",
    "units_loc = df.loc['2015-02-05 02:00:00', 'Units']\n",
    "print(\"Units (Bracket):\", units_bracket)\n",
    "print(\"Units (.loc):\", units_loc)\n",
    "\n"
   ]
  },
  {
   "cell_type": "code",
   "execution_count": null,
   "id": "a7f8bb90",
   "metadata": {},
   "outputs": [],
   "source": [
    "# 3. New DataFrame with 'Company' and 'Units'\n",
    "df_company_units = df[['Company', 'Units']]\n",
    "print(df_company_units.head())\n"
   ]
  },
  {
   "cell_type": "code",
   "execution_count": null,
   "id": "dafcd4d1",
   "metadata": {},
   "outputs": [],
   "source": [
    "# 4. Sales data between Feb 3rd and Feb 5th (inclusive)\n",
    "sales_feb3_5 = df.loc['2015-02-03':'2015-02-05']\n",
    "print(sales_feb3_5)\n",
    "\n"
   ]
  },
  {
   "cell_type": "code",
   "execution_count": null,
   "id": "e6cbe6c7",
   "metadata": {},
   "outputs": [],
   "source": [
    "# 5. Slice: first 5 entries\n",
    "first_5 = df.iloc[:5]\n",
    "print(first_5)"
   ]
  },
  {
   "cell_type": "code",
   "execution_count": null,
   "id": "ceda3473",
   "metadata": {},
   "outputs": [],
   "source": [
    "\n",
    "# 6. All Hooli entries using .loc\n",
    "hooli_entries = df.loc[df['Company'] == 'Hooli']\n",
    "print(hooli_entries)"
   ]
  },
  {
   "cell_type": "code",
   "execution_count": null,
   "id": "82d87ba2",
   "metadata": {},
   "outputs": [],
   "source": [
    "# 7. Using .iloc for rows 2-4 and columns 1 and 2\n",
    "iloc_selection = df.iloc[2:5, 1:3]\n",
    "print(iloc_selection)"
   ]
  },
  {
   "cell_type": "code",
   "execution_count": null,
   "id": "318f9054",
   "metadata": {},
   "outputs": [],
   "source": [
    "# 8. Filter: Units > 10\n",
    "units_gt_10 = df[df['Units'] > 10]\n",
    "print(units_gt_10)"
   ]
  },
  {
   "cell_type": "code",
   "execution_count": null,
   "id": "d76cfe08",
   "metadata": {},
   "outputs": [],
   "source": [
    "# 9. Boolean mask for Software products\n",
    "software_mask = df['Product'] == 'Software'\n",
    "software_sales = df[software_mask]\n",
    "print(software_sales)"
   ]
  },
  {
   "cell_type": "code",
   "execution_count": null,
   "id": "fb978b32",
   "metadata": {},
   "outputs": [],
   "source": [
    "# 10. Product is Hardware OR Units > 15\n",
    "hardware_or_units_gt15 = df[(df['Product'] == 'Hardware') | (df['Units'] > 15)]\n",
    "print(hardware_or_units_gt15)"
   ]
  },
  {
   "cell_type": "code",
   "execution_count": null,
   "id": "d6b807b7",
   "metadata": {},
   "outputs": [],
   "source": [
    "# 11. Remove NaN values\n",
    "df_cleaned = df.dropna()\n",
    "print(df_cleaned)"
   ]
  },
  {
   "cell_type": "code",
   "execution_count": null,
   "id": "c5015f42",
   "metadata": {},
   "outputs": [],
   "source": [
    "# 12. Add 'Revenue' column based on product price\n",
    "def calculate_revenue(row):\n",
    "    prices = {'Software': 350, 'Hardware': 425, 'Service': 275}\n",
    "    return row['Units'] * prices.get(row['Product'], 0)\n",
    "\n",
    "df['Revenue'] = df.apply(calculate_revenue, axis=1)\n",
    "print(df[['Product', 'Units', 'Revenue']].head())"
   ]
  },
  {
   "cell_type": "code",
   "execution_count": null,
   "id": "d32ff68c",
   "metadata": {},
   "outputs": [],
   "source": [
    "# 13. Add 'DayOfWeek' column\n",
    "df['DayOfWeek'] = df.index.day_name()\n",
    "print(df[['DayOfWeek']].head())"
   ]
  },
  {
   "cell_type": "code",
   "execution_count": null,
   "id": "f2f163a2",
   "metadata": {},
   "outputs": [],
   "source": [
    "# 14. Apply discount function\n",
    "def apply_discount(row):\n",
    "    if row['Units'] >= 20:\n",
    "        return row['Revenue'] * 0.90  # 10% discount\n",
    "    elif row['Units'] >= 15:\n",
    "        return row['Revenue'] * 0.95  # 5% discount\n",
    "    return row['Revenue']\n",
    "\n",
    "df['DiscountedRevenue'] = df.apply(apply_discount, axis=1)\n",
    "print(df[['Units', 'Revenue', 'DiscountedRevenue']].head())"
   ]
  },
  {
   "cell_type": "code",
   "execution_count": null,
   "id": "8092a1b3",
   "metadata": {},
   "outputs": [],
   "source": [
    "# 15. Uppercase company names and create CompanyCode\n",
    "df['CompanyUpper'] = df['Company'].str.upper()\n",
    "df['CompanyCode'] = df['CompanyUpper'].str[:3]\n",
    "print(df[['Company', 'CompanyUpper', 'CompanyCode']].head())"
   ]
  }
 ],
 "metadata": {
  "language_info": {
   "name": "python"
  }
 },
 "nbformat": 4,
 "nbformat_minor": 5
}
